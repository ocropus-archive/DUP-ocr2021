{
 "cells": [
  {
   "cell_type": "markdown",
   "id": "31ee2c82-50cf-483a-a824-1ae50f0ff025",
   "metadata": {},
   "source": [
    "# Minimal Page-to-Word Recognition Examples"
   ]
  },
  {
   "cell_type": "code",
   "execution_count": 14,
   "id": "ca944d54-087c-45dd-bced-856a70756849",
   "metadata": {},
   "outputs": [
    {
     "name": "stdout",
     "output_type": "stream",
     "text": [
      "(venv) (venv) (venv) "
     ]
    },
    {
     "ename": "",
     "evalue": "1",
     "output_type": "error",
     "traceback": []
    }
   ],
   "source": [
    "test -f ocrorec.pth || curl -sL http://storage.googleapis.com/ocropus4-models/ocrorec.pth > ocrorec.pth\n",
    "test -f wsegmodel.pth || curl -sL http://storage.googleapis.com/ocropus4-models/wsegmodel.pth > wsegmodel.pth\n",
    "test -f gsub-bin-test.tar || curl -sL http://storage.googleapis.com/ocropus4-test/gsub-bin-test.tar > gsub-bin-test.tar"
   ]
  },
  {
   "cell_type": "code",
   "execution_count": 18,
   "id": "0eeb553b-25a8-4913-8c06-32bd6822cafd",
   "metadata": {},
   "outputs": [
    {
     "name": "stdout",
     "output_type": "stream",
     "text": [
      "(venv) cuda:0\n",
      "# loading recognizer ocrorec.pth\n",
      "cuda:0\n",
      "# loading segmenter wsegmodel.pth\n",
      "cuda:0\n",
      "# starting\n",
      "\n",
      "=== Volume_0935/Image_0028 ======================================== \n",
      "\n",
      "# segmenting\n",
      "# recognizing\n",
      "   24 g faut le de confacrer tout terhs votre pas al'apprendre. Leslangues jeuneffe  nefont,  a ainf dire, les pour que avenues qui con- les e refident duifent temple ciences. ot au Medite, ae les  fls, loix divines hu- mon et  elles  font renferm~es dans maines, toutes 1Alcoran: connoifanees fois i ces ac- une Lo la a quifes, appliquez a gique, vous et Phyfique. ourriffez-vous  la fur- a   lecture meilleurs  la des de tout auteurs.  Un atles ofe-t-i s'~lever fans a oifeau dans Le lair i de la coquillage r~gion pr~-  la  fe renferme perle, cieux trouve qui ne Teat c'eft a furface  fur de point au mille a la fond dan- de et a travers mer, pcher. qu'i aller le  faut  gers, Nous Orien- le montr~ favoir des avons leur faifons  et oir gott ajoutons taux Nabi, traduits du m~me deux chapitres m~me favant homme. le par       Sur                            \n",
      "\n",
      "\n",
      "=== Volume_0523/Image_0136 ======================================== \n",
      "\n",
      "# segmenting\n",
      "# recognizing\n",
      "                 CAN CA            Inow of tndant the ehureh. believe al  bt which  on eas grace,   ~    heard had formerly ot appeared desire closer at Schoenbrunn, to a co-     Now, God Re- with the incarnate and chureh. cerning our  conexio     Cross whe died however, with deemer, the she entreated, to tears upo ~    from  ta she eternal death. In be this might baptized and save us as    of she confessio soul deives comfort ade satisfactory place poo my a   good hope and therefore he fith avowed and  and her exclusive   a     dwel al- the dependence for to believers, salvation the come among o  sfcien of Calvary, and die with them, because saerifice to her   aiong    the heathen find  divine neither rqes and the rest granted, o  was        \n",
      "\n",
      "\n",
      "=== Volume_0934/Image_0037 ======================================== \n",
      "\n",
      "# segmenting\n",
      "# recognizing\n",
      " 8x osvATions.  t               LEXANDR PAP/ Obserationes ad i reulam addit. juss Regulam Observandum cirea decimam, est de- qudd Sedi Apostolice mediate vel stat immediate in gentes libros transmittere possunt subjecto, a o compositos, se alib imprimendos, sine expressa approbatione et ins- Reverendissim Eminentissimi, D. Cardinalis ac criptis icarii, Nostri Domin Sanctissim Magistr Pa- e sacri Urhem Urhe; extra Or- lati, s verd in s existant, sin~ ab illius, his dinari loei deputatorum sive facultate et Opera licentia, infigenda. librorum ordinariam Qu impressionem verd super  auctoritatem dent delegatam exercent, aut operam, e affect hujusmodi librorum ue- ad personas examen addictas, quomodolibet presertim verd propinqui- torum illos, longe alia, quantumvis a petita aut sit ( tate ea veri necessitdine judici corruptrice ) contingentes sinceri et  oblatis ab sib omnia autem admittant in hane super Auctores censoribus eosdem caveant sed per iis operam doetrina demum utantur, quos morumque integritate ab suspicione omn gratie intactos fier probatos s ac    Auctoribs et boni ignotos unius ipsis publici, potest Deique stdiosos Gao ad cognoverint. verd glorie acto- Ordinis, Institut Regulares, et cujuseumque sint es illd \n",
      "\n",
      "\n",
      "=== Volume_0160/Image_0144 ======================================== \n",
      "\n",
      "(venv) "
     ]
    },
    {
     "ename": "",
     "evalue": "1",
     "output_type": "error",
     "traceback": []
    }
   ],
   "source": [
    "source venv/bin/activate\n",
    "ocropus4 wordrec recognize --extensions nrm.jpg --recmodel ocrorec.pth --segmodel wsegmodel.pth gsub-bin-test.tar --output out.tar --maxrec 3"
   ]
  },
  {
   "cell_type": "code",
   "execution_count": 28,
   "id": "443145c0-0d72-49df-9346-6f65fb6ef955",
   "metadata": {},
   "outputs": [
    {
     "name": "stdout",
     "output_type": "stream",
     "text": [
      "(venv) (venv) (venv) <!DOCTYPE html>\n",
      "<html>\n",
      "<head>\n",
      "  <meta name=\"generator\" content=\"HTML Tidy for HTML5 for Linux version 5.6.0\">\n",
      "  <title>Volume_0523/Image_0136</title>\n",
      "</head>\n",
      "<body>\n",
      "  <div style=\"position: relative; min-height: 2279px; width: 1351px;border: solid 2px black;\">\n",
      "    <img src=\"Image_0136.jpg\" style=\"position: absolute; opacity: 0.3; top: 0px; left: 0px;\" alt=\n",
      "    \"Volume_0523/Image_0136\"><span class=\"ocrx_word\" title=\"bbox 24 0 65 953\" style=\n",
      "    \"position: absolute; top: 0px; left: 24px;font-size: 858px;font-weight: bold;color: red;\">☒</span> <span class=\n",
      "    \"ocrx_word\" title=\"bbox 1290 1 1327 47\" style=\n",
      "    \"position: absolute; top: 1px; left: 1290px;font-size: 42px;font-weight: bold;color: red;\">☒</span> <span class=\n",
      "    \"ocrx_word\" title=\"bbox 53 0 140 92\" style=\n",
      "    \"position: absolute; top: 0px; left: 53px;font-size: 83px;font-weight: bold;color: red;\">☒</span> <span class=\n",
      "    \"ocrx_word\" title=\"bbox 78 44 79 45\" style=\n",
      "    \"position: absolute; top: 44px; left: 78px;font-size: 1px;font-weight: bold;color: red;\">☒</span> <span class=\n",
      "    \"ocrx_word\" title=\"bbox 1291 47 1322 51\" style=\n",
      "    \"position: absolute; top: 47px; left: 1291px;font-size: 4px;font-weight: bold;color: red;\">☒</span> <span class=\n",
      "    \"ocrx_word\" title=\"bbox 1290 51 1322 55\" style=\n",
      "(venv) "
     ]
    },
    {
     "ename": "",
     "evalue": "1",
     "output_type": "error",
     "traceback": []
    }
   ],
   "source": [
    "umount arch\n",
    "mkdir -p arch\n",
    "archivemount out.tar arch\n",
    "tidy -w 120 -i < arch/Volume_0523/Image_0136.words.html 2>/dev/null | sed 20q"
   ]
  },
  {
   "cell_type": "code",
   "execution_count": 33,
   "id": "3d618cf1-ccf7-413f-b4a3-60ee99c1f504",
   "metadata": {},
   "outputs": [
    {
     "name": "stdout",
     "output_type": "stream",
     "text": [
      "    },\n",
      "    {\n",
      "        \"type\": \"span\",\n",
      "        \"box\": [\n",
      "            320,\n",
      "            345,\n",
      "            93,\n",
      "            135\n",
      "        ],\n",
      "        \"output\": \"ta\"\n",
      "    },\n",
      "    {\n",
      "        \"type\": \"span\",\n",
      "        \"box\": [\n",
      "            319,\n",
      "            346,\n",
      "            143,\n",
      "            182\n",
      "        ],\n",
      "        \"output\": \"she\"\n",
      "    },\n",
      "    {\n",
      "        \"type\": \"span\",\n",
      "        \"box\": [\n",
      "            321,\n",
      "            346,\n",
      "            800,\n",
      "            897\n",
      "        ],\n",
      "        \"output\": \"eternal\"\n",
      "(venv) "
     ]
    },
    {
     "ename": "",
     "evalue": "1",
     "output_type": "error",
     "traceback": []
    }
   ],
   "source": [
    "python -m json.tool arch/Volume_0523/Image_0136.words.json | sed '1,1000d;1030q'"
   ]
  },
  {
   "cell_type": "code",
   "execution_count": null,
   "id": "ea2d62ca-6e29-4754-9ef1-af1600fc25b9",
   "metadata": {},
   "outputs": [],
   "source": []
  }
 ],
 "metadata": {
  "kernelspec": {
   "display_name": "Bash",
   "language": "bash",
   "name": "bash"
  },
  "language_info": {
   "codemirror_mode": "shell",
   "file_extension": ".sh",
   "mimetype": "text/x-sh",
   "name": "bash"
  }
 },
 "nbformat": 4,
 "nbformat_minor": 5
}
