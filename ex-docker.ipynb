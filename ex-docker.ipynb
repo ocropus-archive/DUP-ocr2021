{
 "cells": [
  {
   "cell_type": "markdown",
   "id": "5de27d3a-2402-4277-9c8c-c00a924e9765",
   "metadata": {},
   "source": [
    "# Minimal Docker Examples"
   ]
  },
  {
   "cell_type": "code",
   "execution_count": 22,
   "id": "5873711b-e8be-4185-857f-20c4f1a928f1",
   "metadata": {},
   "outputs": [
    {
     "name": "stdout",
     "output_type": "stream",
     "text": [
      "hello world\n"
     ]
    }
   ],
   "source": [
    "docker run python:latest \\\n",
    "    python -c 'print(\"hello world\")'"
   ]
  },
  {
   "cell_type": "code",
   "execution_count": 23,
   "id": "ff5b5fa2-73bd-4f07-9d09-617f6e54dd4f",
   "metadata": {},
   "outputs": [
    {
     "name": "stdout",
     "output_type": "stream",
     "text": [
      "Sending build context to Docker daemon  2.048kB\n",
      "Step 1/2 : FROM python:latest\n",
      " ---> 1e76b28bfd4e\n",
      "Step 2/2 : RUN pip3 install braceexpand\n",
      " ---> Using cache\n",
      " ---> b8c767d29634\n",
      "Successfully built b8c767d29634\n",
      "Successfully tagged mypython:latest\n"
     ]
    }
   ],
   "source": [
    "docker build -t mypython - <<EOF\n",
    "FROM python:latest\n",
    "RUN pip3 install braceexpand\n",
    "EOF"
   ]
  },
  {
   "cell_type": "code",
   "execution_count": 8,
   "id": "06f229b9-b41f-41bf-b2b4-c9ae51bc695f",
   "metadata": {},
   "outputs": [
    {
     "name": "stdout",
     "output_type": "stream",
     "text": [
      "['13', '14', '23', '24']\n"
     ]
    }
   ],
   "source": [
    "docker run mypython python -c '\n",
    "import braceexpand\n",
    "print(list(braceexpand.braceexpand(\"{1,2}{3,4}\")))\n",
    "'"
   ]
  },
  {
   "cell_type": "code",
   "execution_count": 17,
   "id": "78d4541f-1f94-4b27-972a-4cd3819aee83",
   "metadata": {},
   "outputs": [
    {
     "name": "stdout",
     "output_type": "stream",
     "text": [
      "+ nvidia-smi -L\n",
      "GPU 0: GeForce RTX 2080 Ti (UUID: GPU-2b918428-1578-9d02-1585-03da226a1c4d)\n",
      "+ docker run nvidia/cuda:11.4.1-devel-ubuntu20.04 nvidia-smi -L\n",
      "docker: Error response from daemon: OCI runtime create failed: container_linux.go:380: starting container process caused: exec: \"nvidia-smi\": executable file not found in $PATH: unknown.\n",
      "\u001b[31mERRO\u001b[0m[0001] error waiting for container: context canceled \n",
      "+ docker run --runtime=nvidia nvidia/cuda:11.4.1-devel-ubuntu20.04 nvidia-smi -L\n",
      "GPU 0: GeForce RTX 2080 Ti (UUID: GPU-2b918428-1578-9d02-1585-03da226a1c4d)\n",
      "+ set +x\n"
     ]
    }
   ],
   "source": [
    "set -x\n",
    "nvidia-smi -L\n",
    "docker run nvidia/cuda:11.4.1-devel-ubuntu20.04 nvidia-smi -L\n",
    "docker run --runtime=nvidia nvidia/cuda:11.4.1-devel-ubuntu20.04 nvidia-smi -L\n",
    "set +x"
   ]
  },
  {
   "cell_type": "code",
   "execution_count": 26,
   "id": "726f1c2a-ce37-4355-8a46-bb072b1fda04",
   "metadata": {},
   "outputs": [
    {
     "name": "stdout",
     "output_type": "stream",
     "text": [
      "/\n",
      "uid=0(root) gid=0(root) groups=0(root)\n",
      "/root\n"
     ]
    }
   ],
   "source": [
    "docker run mypython bash -c 'pwd; id; echo $HOME'"
   ]
  },
  {
   "cell_type": "code",
   "execution_count": 27,
   "id": "8cb9ae1f-9e6f-4668-a984-bbc679f2868c",
   "metadata": {},
   "outputs": [
    {
     "name": "stdout",
     "output_type": "stream",
     "text": [
      "/home/tmb/proj/ocr2021\n",
      "uid=1000(tmb) gid=1000(tmb) groups=1000(tmb)\n",
      "/home/tmb\n"
     ]
    }
   ],
   "source": [
    "docker run --rm --runtime=nvidia \\\n",
    "    --ipc host --network host \\\n",
    "    -v /etc/passwd:/etc/passwd -v /etc/group:/etc/group \\\n",
    "    -v $HOME:$HOME -v `pwd`:`pwd` -w `pwd` -e $HOME=$HOME \\\n",
    "    -u $(id -u):$(id -g) -i -t mypython \\\n",
    "    bash -c 'pwd; id; echo $HOME'"
   ]
  },
  {
   "cell_type": "code",
   "execution_count": null,
   "id": "19e3f2ff-3041-4179-b533-20ea4d639baa",
   "metadata": {},
   "outputs": [],
   "source": []
  },
  {
   "cell_type": "code",
   "execution_count": null,
   "id": "d64d9cfe-c27e-4339-8e9f-202f09301caa",
   "metadata": {},
   "outputs": [],
   "source": []
  }
 ],
 "metadata": {
  "kernelspec": {
   "display_name": "Bash",
   "language": "bash",
   "name": "bash"
  },
  "language_info": {
   "codemirror_mode": "shell",
   "file_extension": ".sh",
   "mimetype": "text/x-sh",
   "name": "bash"
  }
 },
 "nbformat": 4,
 "nbformat_minor": 5
}
