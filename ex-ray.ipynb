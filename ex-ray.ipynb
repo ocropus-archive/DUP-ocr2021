{
 "cells": [
  {
   "cell_type": "code",
   "execution_count": 1,
   "id": "12e8d07c-3207-4ff2-a49e-06266345cb46",
   "metadata": {},
   "outputs": [
    {
     "name": "stderr",
     "output_type": "stream",
     "text": [
      "2021-08-25 11:33:38,475\tINFO services.py:1263 -- View the Ray dashboard at \u001b[1m\u001b[32mhttp://127.0.0.1:8265\u001b[39m\u001b[22m\n"
     ]
    },
    {
     "data": {
      "text/plain": [
       "{'node_ip_address': '192.168.1.3',\n",
       " 'raylet_ip_address': '192.168.1.3',\n",
       " 'redis_address': '192.168.1.3:6379',\n",
       " 'object_store_address': '/tmp/ray/session_2021-08-25_11-33-37_784430_150179/sockets/plasma_store',\n",
       " 'raylet_socket_name': '/tmp/ray/session_2021-08-25_11-33-37_784430_150179/sockets/raylet',\n",
       " 'webui_url': '127.0.0.1:8265',\n",
       " 'session_dir': '/tmp/ray/session_2021-08-25_11-33-37_784430_150179',\n",
       " 'metrics_export_port': 65064,\n",
       " 'node_id': '53410947b0952e8e7b2496829b3bcdbf780fb68e32eb87a3eab9a87c'}"
      ]
     },
     "execution_count": 1,
     "metadata": {},
     "output_type": "execute_result"
    }
   ],
   "source": [
    "import ray\n",
    "ray.init()"
   ]
  },
  {
   "cell_type": "code",
   "execution_count": 2,
   "id": "ba3ee319-7e39-44dd-ad86-206be63e7cf7",
   "metadata": {},
   "outputs": [],
   "source": [
    "@ray.remote\n",
    "def run_command(s):\n",
    "    import os\n",
    "    return os.system(s)"
   ]
  },
  {
   "cell_type": "code",
   "execution_count": 4,
   "id": "c0ead4f2-976a-46ed-b1d3-27853e2c8b1e",
   "metadata": {},
   "outputs": [
    {
     "name": "stdout",
     "output_type": "stream",
     "text": [
      "[0, 0, 0, 0, 0, 0, 0, 0]\n",
      "CPU times: user 60.9 ms, sys: 1.87 ms, total: 62.8 ms\n",
      "Wall time: 5.01 s\n"
     ]
    }
   ],
   "source": [
    "%%time\n",
    "commands = [\"sleep 5\"] * 8\n",
    "futures = [run_command.remote(s) for s in commands]\n",
    "print(ray.get(futures))"
   ]
  },
  {
   "cell_type": "code",
   "execution_count": null,
   "id": "3107e74a-a760-4a75-8e11-5fd91756828e",
   "metadata": {},
   "outputs": [],
   "source": [
    "run_command.remote"
   ]
  }
 ],
 "metadata": {
  "kernelspec": {
   "display_name": "Python 3 (ipykernel)",
   "language": "python",
   "name": "python3"
  },
  "language_info": {
   "codemirror_mode": {
    "name": "ipython",
    "version": 3
   },
   "file_extension": ".py",
   "mimetype": "text/x-python",
   "name": "python",
   "nbconvert_exporter": "python",
   "pygments_lexer": "ipython3",
   "version": "3.8.10"
  }
 },
 "nbformat": 4,
 "nbformat_minor": 5
}
