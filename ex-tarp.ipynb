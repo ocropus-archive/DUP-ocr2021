{
 "cells": [
  {
   "cell_type": "markdown",
   "id": "9034782d-1970-4df7-96ef-5fe32d48a3ec",
   "metadata": {},
   "source": [
    "# Minimal `tarp` Examples"
   ]
  },
  {
   "cell_type": "markdown",
   "id": "9185143d-cbde-41b1-9278-14b8e6581e3a",
   "metadata": {},
   "source": [
    "see http://github.com/webdataset/tarp"
   ]
  },
  {
   "cell_type": "code",
   "execution_count": 3,
   "id": "bc24c07e-d2ec-459e-aaa2-623f48989fde",
   "metadata": {},
   "outputs": [
    {
     "name": "stdout",
     "output_type": "stream",
     "text": [
      "[info] version 2021-03-04T11:06:08-08:00 false\n",
      "Usage:\n",
      "  tarp [OPTIONS] proc [proc-OPTIONS] [Inputs...]\n",
      "\n",
      "Application Options:\n",
      "  -v                      verbose output\n",
      "\n",
      "Help Options:\n",
      "  -h, --help              Show this help message\n",
      "\n",
      "[proc command options]\n",
      "      -f, --field=        fields to extract; name or name=old1,old2,old3\n",
      "      -o, --outputs=      output file\n",
      "          --slice=        slice of input stream\n",
      "      -c, --command=      shell command running in each sample dir\n",
      "      -m, --multicommand= shell command running in each sample dir\n",
      "          --shell=        shell command running in each sample dir (default:\n",
      "                          /bin/bash)\n",
      "\n"
     ]
    }
   ],
   "source": [
    "tarp proc -help"
   ]
  },
  {
   "cell_type": "code",
   "execution_count": 12,
   "id": "ed285cae-7848-44cd-9d0b-c47dc5ac2bb1",
   "metadata": {},
   "outputs": [
    {
     "name": "stdout",
     "output_type": "stream",
     "text": [
      "[info] version 2021-03-04T11:06:08-08:00 false\n",
      "[progress] # writing /dev/null\n",
      "[progress] # source -\n",
      "sample.JPEG  sample.__key__\n",
      "sample.JPEG  sample.__key__\n",
      "sample.JPEG  sample.__key__\n"
     ]
    }
   ],
   "source": [
    "gsutil cat gs://ocropus4-test/gsub-test.tar |\n",
    "tarp proc --slice 0:3:1 -c 'ls > /dev/stderr' - -o /dev/null"
   ]
  },
  {
   "cell_type": "code",
   "execution_count": 15,
   "id": "494e374a-85c0-40b0-8637-88808a4e4a7e",
   "metadata": {},
   "outputs": [],
   "source": [
    "gm convert -threshold 50% Image_0019.jpg Image_0019.png"
   ]
  },
  {
   "cell_type": "code",
   "execution_count": 13,
   "id": "85422c39-f1fe-464b-ac6e-eaa764c9d6eb",
   "metadata": {},
   "outputs": [
    {
     "name": "stdout",
     "output_type": "stream",
     "text": [
      "[info] version 2021-03-04T11:06:08-08:00 false\n",
      "[progress] # writing binarized.tar\n",
      "[progress] # source -\n"
     ]
    }
   ],
   "source": [
    "gsutil cat gs://ocropus4-test/gsub-test.tar |\n",
    "tarp proc -c 'gm convert -threshold 50% sample.JPEG sample.png; rm sample.JPEG' - -o binarized.tar"
   ]
  },
  {
   "cell_type": "code",
   "execution_count": 14,
   "id": "0bd9d8be-a158-4ee0-9e35-861955736dd2",
   "metadata": {},
   "outputs": [
    {
     "name": "stdout",
     "output_type": "stream",
     "text": [
      "-rwxr-xr-x bigdata/bigdata 41021 2021-08-26 00:37 Volume_0935/Image_0028.png\n",
      "-rwxr-xr-x bigdata/bigdata 94410 2021-08-26 00:37 Volume_0523/Image_0136.png\n",
      "-rwxr-xr-x bigdata/bigdata 50368 2021-08-26 00:37 Volume_0934/Image_0037.png\n",
      "-rwxr-xr-x bigdata/bigdata 87498 2021-08-26 00:37 Volume_0160/Image_0144.png\n",
      "-rwxr-xr-x bigdata/bigdata 71953 2021-08-26 00:37 Volume_0425/Image_0253.png\n",
      "tar: write error\n"
     ]
    }
   ],
   "source": [
    "tar tvf binarized.tar | sed 5q"
   ]
  },
  {
   "cell_type": "code",
   "execution_count": null,
   "id": "e49d7470-d03d-41ef-b348-2f0e1d21982a",
   "metadata": {},
   "outputs": [],
   "source": []
  }
 ],
 "metadata": {
  "kernelspec": {
   "display_name": "Bash",
   "language": "bash",
   "name": "bash"
  },
  "language_info": {
   "codemirror_mode": "shell",
   "file_extension": ".sh",
   "mimetype": "text/x-sh",
   "name": "bash"
  }
 },
 "nbformat": 4,
 "nbformat_minor": 5
}
