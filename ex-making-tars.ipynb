{
 "cells": [
  {
   "cell_type": "markdown",
   "id": "b6b462c8-1e99-4132-873e-61ffb46b7485",
   "metadata": {},
   "source": [
    "# Creating Tars in WebDataset Format"
   ]
  },
  {
   "cell_type": "code",
   "execution_count": 12,
   "id": "2b73877e-40d0-4c37-ae68-57ee267a04e2",
   "metadata": {},
   "outputs": [
    {
     "name": "stdout",
     "output_type": "stream",
     "text": [
      "(venv) "
     ]
    },
    {
     "ename": "",
     "evalue": "1",
     "output_type": "error",
     "traceback": []
    }
   ],
   "source": [
    "rm images-*.tar"
   ]
  },
  {
   "cell_type": "code",
   "execution_count": 13,
   "id": "24ce5f86-f1ad-4f20-a34b-6618f37512cf",
   "metadata": {},
   "outputs": [
    {
     "name": "stdout",
     "output_type": "stream",
     "text": [
      "[info] version 2021-03-04T11:06:08-08:00 false\n",
      "[progress] # source -\n",
      "[progress] # shard split-000000.tar\n",
      "[progress] # shard split-000001.tar\n",
      "[progress] # shard split-000002.tar\n",
      "[progress] # shard split-000003.tar\n",
      "[progress] # shard split-000004.tar\n",
      "[progress] # shard split-000005.tar\n",
      "[progress] # shard split-000006.tar\n",
      "[progress] # shard split-000007.tar\n",
      "[progress] # shard split-000008.tar\n",
      "[progress] # shard split-000009.tar\n",
      "[progress] # shard split-000010.tar\n",
      "[progress] # shard split-000011.tar\n",
      "[progress] # shard split-000012.tar\n",
      "[progress] # shard split-000013.tar\n",
      "[progress] # shard split-000014.tar\n",
      "[progress] # shard split-000015.tar\n",
      "[progress] # shard split-000016.tar\n",
      "[progress] # shard split-000017.tar\n",
      "[progress] # shard split-000018.tar\n",
      "[progress] # shard split-000019.tar\n",
      "[progress] # shard split-000020.tar\n",
      "[progress] # shard split-000021.tar\n",
      "[progress] # shard split-000022.tar\n",
      "[progress] # shard split-000023.tar\n",
      "[progress] # shard split-000024.tar\n",
      "[progress] # shard split-000025.tar\n",
      "(venv) "
     ]
    },
    {
     "ename": "",
     "evalue": "1",
     "output_type": "error",
     "traceback": []
    }
   ],
   "source": [
    "tar cf - --sort=name images | tarp split -c 20 -"
   ]
  },
  {
   "cell_type": "code",
   "execution_count": 14,
   "id": "bfd105d6-f243-429d-8d46-037be009f069",
   "metadata": {},
   "outputs": [
    {
     "name": "stdout",
     "output_type": "stream",
     "text": [
      "(venv) "
     ]
    },
    {
     "ename": "",
     "evalue": "1",
     "output_type": "error",
     "traceback": []
    }
   ],
   "source": [
    "ls split-*.tar | rename 's/split-/images-/'"
   ]
  },
  {
   "cell_type": "code",
   "execution_count": 15,
   "id": "aef376cb-8a93-45f3-a3ab-a7f483e6c4f8",
   "metadata": {},
   "outputs": [
    {
     "name": "stdout",
     "output_type": "stream",
     "text": [
      "images/Image_0080.jpg\n",
      "images/Image_0081.jpg\n",
      "images/Image_0082.jpg\n",
      "images/Image_0083.jpg\n",
      "images/Image_0084.jpg\n",
      "images/Image_0085.jpg\n",
      "images/Image_0086.jpg\n",
      "images/Image_0087.jpg\n",
      "images/Image_0088.jpg\n",
      "images/Image_0089.jpg\n",
      "tar: write error\n",
      "(venv) "
     ]
    },
    {
     "ename": "",
     "evalue": "1",
     "output_type": "error",
     "traceback": []
    }
   ],
   "source": [
    "tar tf images-000004.tar | head"
   ]
  },
  {
   "cell_type": "code",
   "execution_count": 22,
   "id": "640dd05c-3d75-4084-a9a1-abeb00549b04",
   "metadata": {},
   "outputs": [
    {
     "name": "stdout",
     "output_type": "stream",
     "text": [
      "import webdataset as wds\n",
      "import numpy as np\n",
      "import sys\n",
      "\n",
      "source = wds.WebDataset(sys.argv[1]).decode(\"rgb\")\n",
      "sink = wds.TarWriter(sys.argv[2])\n",
      "\n",
      "for sample in source:\n",
      "    image = np.mean(sample[\"jpg\"], 2)\n",
      "    binarized = (image > 0.5).astype(float)\n",
      "    sink.write({\n",
      "        \"__key__\": sample[\"__key__\"],\n",
      "        \"png\": binarized\n",
      "    })\n",
      "(venv) "
     ]
    },
    {
     "ename": "",
     "evalue": "1",
     "output_type": "error",
     "traceback": []
    }
   ],
   "source": [
    "cat binarize.py"
   ]
  },
  {
   "cell_type": "code",
   "execution_count": 23,
   "id": "565d952c-e115-4449-b67e-7be7039115f7",
   "metadata": {},
   "outputs": [
    {
     "name": "stdout",
     "output_type": "stream",
     "text": [
      "(venv) "
     ]
    },
    {
     "ename": "",
     "evalue": "1",
     "output_type": "error",
     "traceback": []
    }
   ],
   "source": [
    "source venv/bin/activate"
   ]
  },
  {
   "cell_type": "code",
   "execution_count": 30,
   "id": "d7c0610d-6dfb-4afe-ae63-4c732dd7a49c",
   "metadata": {},
   "outputs": [
    {
     "name": "stdout",
     "output_type": "stream",
     "text": [
      "000000\n",
      "000001\n",
      "000002\n",
      "000003\n",
      "000004\n",
      "000005\n",
      "000006\n",
      "000007\n",
      "000008\n",
      "000009\n",
      "000010\n",
      "000011\n",
      "000012\n",
      "000013\n",
      "000014\n",
      "000015\n",
      "000016\n",
      "000017\n",
      "000018\n",
      "000019\n",
      "000020\n",
      "000021\n",
      "000022\n",
      "000023\n",
      "000024\n",
      "000025\n",
      "(venv) "
     ]
    },
    {
     "ename": "",
     "evalue": "1",
     "output_type": "error",
     "traceback": []
    }
   ],
   "source": [
    "for shard in {000000..000025}; do\n",
    "    echo $shard\n",
    "    python3 binarize.py images-$shard.tar temp.tar && mv temp.tar binarized-$shard.tar\n",
    "done"
   ]
  },
  {
   "cell_type": "code",
   "execution_count": 25,
   "id": "ad2eff7a-d339-4afd-ac79-7bef2ab88a00",
   "metadata": {},
   "outputs": [
    {
     "name": "stdout",
     "output_type": "stream",
     "text": [
      "-r--r--r-- bigdata/bigdata 3943 2021-08-25 07:55 images/Image_0000.png\n",
      "-r--r--r-- bigdata/bigdata 18066 2021-08-25 07:55 images/Image_0001.png\n",
      "-r--r--r-- bigdata/bigdata  7475 2021-08-25 07:55 images/Image_0002.png\n",
      "-r--r--r-- bigdata/bigdata  7515 2021-08-25 07:55 images/Image_0003.png\n",
      "-r--r--r-- bigdata/bigdata  7463 2021-08-25 07:55 images/Image_0004.png\n",
      "-r--r--r-- bigdata/bigdata  7463 2021-08-25 07:55 images/Image_0005.png\n",
      "-r--r--r-- bigdata/bigdata  7463 2021-08-25 07:55 images/Image_0006.png\n",
      "-r--r--r-- bigdata/bigdata  7465 2021-08-25 07:55 images/Image_0007.png\n",
      "-r--r--r-- bigdata/bigdata 11127 2021-08-25 07:55 images/Image_0008.png\n",
      "-r--r--r-- bigdata/bigdata 14106 2021-08-25 07:55 images/Image_0009.png\n",
      "-r--r--r-- bigdata/bigdata 20434 2021-08-25 07:55 images/Image_0010.png\n",
      "-r--r--r-- bigdata/bigdata 10716 2021-08-25 07:55 images/Image_0011.png\n",
      "-r--r--r-- bigdata/bigdata 41301 2021-08-25 07:55 images/Image_0012.png\n",
      "-r--r--r-- bigdata/bigdata 34712 2021-08-25 07:55 images/Image_0013.png\n",
      "-r--r--r-- bigdata/bigdata  8496 2021-08-25 07:56 images/Image_0014.png\n",
      "-r--r--r-- bigdata/bigdata 55638 2021-08-25 07:56 images/Image_0015.png\n",
      "-r--r--r-- bigdata/bigdata 47275 2021-08-25 07:56 images/Image_0016.png\n",
      "-r--r--r-- bigdata/bigdata 49311 2021-08-25 07:56 images/Image_0017.png\n",
      "-r--r--r-- bigdata/bigdata 38745 2021-08-25 07:56 images/Image_0018.png\n",
      "-r--r--r-- bigdata/bigdata 32448 2021-08-25 07:56 images/Image_0019.png\n",
      "(venv) "
     ]
    },
    {
     "ename": "",
     "evalue": "1",
     "output_type": "error",
     "traceback": []
    }
   ],
   "source": [
    "tar tvf binarized-000000.tar"
   ]
  },
  {
   "cell_type": "code",
   "execution_count": 26,
   "id": "5d0f7256-83b8-4544-b79a-687ae020bd83",
   "metadata": {},
   "outputs": [
    {
     "name": "stdout",
     "output_type": "stream",
     "text": [
      "(venv) (venv) "
     ]
    },
    {
     "ename": "",
     "evalue": "1",
     "output_type": "error",
     "traceback": []
    }
   ],
   "source": [
    "mkdir -p arch\n",
    "archivemount binarized-000000.tar arch"
   ]
  },
  {
   "cell_type": "code",
   "execution_count": 31,
   "id": "5f8723d3-87f1-4f57-981e-6dc885acce37",
   "metadata": {},
   "outputs": [
    {
     "name": "stdout",
     "output_type": "stream",
     "text": []
    },
    {
     "data": {
      "image/png": "[encoded data removed]"
     },
     "metadata": {},
     "output_type": "display_data"
    },
    {
     "name": "stdout",
     "output_type": "stream",
     "text": [
      "(venv) "
     ]
    },
    {
     "ename": "",
     "evalue": "1",
     "output_type": "error",
     "traceback": []
    }
   ],
   "source": [
    "display < arch/images/Image_0019.png"
   ]
  },
  {
   "cell_type": "code",
   "execution_count": null,
   "id": "6da48c1f-3308-4696-8066-244de64cb907",
   "metadata": {},
   "outputs": [],
   "source": [
    "umount arch"
   ]
  },
  {
   "cell_type": "code",
   "execution_count": 32,
   "id": "c951fecd-1423-4d18-8a81-478b983ae452",
   "metadata": {},
   "outputs": [
    {
     "name": "stdout",
     "output_type": "stream",
     "text": [
      "(venv) "
     ]
    },
    {
     "ename": "",
     "evalue": "1",
     "output_type": "error",
     "traceback": []
    }
   ],
   "source": [
    "qsubmit() {\n",
    "    echo SUBMITTED JOB: \"$*\"\n",
    "}"
   ]
  },
  {
   "cell_type": "code",
   "execution_count": 34,
   "id": "671625bb-5cdd-418b-a1b9-29f29a40c381",
   "metadata": {},
   "outputs": [
    {
     "name": "stdout",
     "output_type": "stream",
     "text": [
      "SUBMITTED JOB: python3 binarize.py images-000000.tar binarized-000000.tar\n",
      "SUBMITTED JOB: python3 binarize.py images-000001.tar binarized-000001.tar\n",
      "SUBMITTED JOB: python3 binarize.py images-000002.tar binarized-000002.tar\n",
      "SUBMITTED JOB: python3 binarize.py images-000003.tar binarized-000003.tar\n",
      "SUBMITTED JOB: python3 binarize.py images-000004.tar binarized-000004.tar\n",
      "SUBMITTED JOB: python3 binarize.py images-000005.tar binarized-000005.tar\n",
      "SUBMITTED JOB: python3 binarize.py images-000006.tar binarized-000006.tar\n",
      "SUBMITTED JOB: python3 binarize.py images-000007.tar binarized-000007.tar\n",
      "SUBMITTED JOB: python3 binarize.py images-000008.tar binarized-000008.tar\n",
      "SUBMITTED JOB: python3 binarize.py images-000009.tar binarized-000009.tar\n",
      "SUBMITTED JOB: python3 binarize.py images-000010.tar binarized-000010.tar\n",
      "SUBMITTED JOB: python3 binarize.py images-000011.tar binarized-000011.tar\n",
      "SUBMITTED JOB: python3 binarize.py images-000012.tar binarized-000012.tar\n",
      "SUBMITTED JOB: python3 binarize.py images-000013.tar binarized-000013.tar\n",
      "SUBMITTED JOB: python3 binarize.py images-000014.tar binarized-000014.tar\n",
      "SUBMITTED JOB: python3 binarize.py images-000015.tar binarized-000015.tar\n",
      "SUBMITTED JOB: python3 binarize.py images-000016.tar binarized-000016.tar\n",
      "SUBMITTED JOB: python3 binarize.py images-000017.tar binarized-000017.tar\n",
      "SUBMITTED JOB: python3 binarize.py images-000018.tar binarized-000018.tar\n",
      "SUBMITTED JOB: python3 binarize.py images-000019.tar binarized-000019.tar\n",
      "SUBMITTED JOB: python3 binarize.py images-000020.tar binarized-000020.tar\n",
      "SUBMITTED JOB: python3 binarize.py images-000021.tar binarized-000021.tar\n",
      "SUBMITTED JOB: python3 binarize.py images-000022.tar binarized-000022.tar\n",
      "SUBMITTED JOB: python3 binarize.py images-000023.tar binarized-000023.tar\n",
      "SUBMITTED JOB: python3 binarize.py images-000024.tar binarized-000024.tar\n",
      "SUBMITTED JOB: python3 binarize.py images-000025.tar binarized-000025.tar\n",
      "(venv) "
     ]
    },
    {
     "ename": "",
     "evalue": "1",
     "output_type": "error",
     "traceback": []
    }
   ],
   "source": [
    "for shard in {000000..000025}; do\n",
    "    qsubmit python3 binarize.py images-$shard.tar binarized-$shard.tar\n",
    "done"
   ]
  },
  {
   "cell_type": "code",
   "execution_count": 38,
   "id": "f77ff65b-8ba3-4a2e-b929-3640cf2d92f0",
   "metadata": {},
   "outputs": [
    {
     "name": "stdout",
     "output_type": "stream",
     "text": [
      "Copying from <STDIN>...\n",
      "/ [1 files][    0.0 B/    0.0 B]      0.0 B/s                                   \n",
      "Operation completed over 1 objects.                                              \n",
      "(venv) "
     ]
    },
    {
     "ename": "",
     "evalue": "1",
     "output_type": "error",
     "traceback": []
    }
   ],
   "source": [
    "gsutil cat gs://ocropus4-g1000/Volume_0000.tar |\n",
    "python3 binarize.py - - |\n",
    "gsutil cp - gs://tmb-temp/binarized-0000.tar"
   ]
  },
  {
   "cell_type": "code",
   "execution_count": 39,
   "id": "64610ac5-7d04-412b-9456-6a7e0e652ad3",
   "metadata": {},
   "outputs": [
    {
     "name": "stdout",
     "output_type": "stream",
     "text": [
      "-r--r--r-- bigdata/bigdata 3943 2021-08-25 08:33 Volume_0000/Image_0000.png\n",
      "-r--r--r-- bigdata/bigdata 18066 2021-08-25 08:33 Volume_0000/Image_0001.png\n",
      "-r--r--r-- bigdata/bigdata  7475 2021-08-25 08:33 Volume_0000/Image_0002.png\n",
      "-r--r--r-- bigdata/bigdata  7515 2021-08-25 08:33 Volume_0000/Image_0003.png\n",
      "-r--r--r-- bigdata/bigdata  7463 2021-08-25 08:33 Volume_0000/Image_0004.png\n",
      "-r--r--r-- bigdata/bigdata  7463 2021-08-25 08:33 Volume_0000/Image_0005.png\n",
      "-r--r--r-- bigdata/bigdata  7463 2021-08-25 08:33 Volume_0000/Image_0006.png\n",
      "-r--r--r-- bigdata/bigdata  7465 2021-08-25 08:33 Volume_0000/Image_0007.png\n",
      "-r--r--r-- bigdata/bigdata 11127 2021-08-25 08:33 Volume_0000/Image_0008.png\n",
      "-r--r--r-- bigdata/bigdata 14106 2021-08-25 08:33 Volume_0000/Image_0009.png\n",
      "tar: write error\n",
      "(venv) "
     ]
    },
    {
     "ename": "",
     "evalue": "1",
     "output_type": "error",
     "traceback": []
    }
   ],
   "source": [
    "gsutil cat gs://tmb-temp/binarized-0000.tar | tar tvf -| head"
   ]
  },
  {
   "cell_type": "code",
   "execution_count": 47,
   "id": "bed15027-24bf-4c7f-aef7-3d816cd9b246",
   "metadata": {},
   "outputs": [
    {
     "name": "stdout",
     "output_type": "stream",
     "text": [
      "Image_0000.png\n",
      "(venv) "
     ]
    },
    {
     "ename": "",
     "evalue": "1",
     "output_type": "error",
     "traceback": []
    }
   ],
   "source": [
    "tar cf - Image_0000.jpg | python3 binarize.py - - | tar xvf -"
   ]
  },
  {
   "cell_type": "code",
   "execution_count": null,
   "id": "c379e673-5ada-47af-991f-6670feeb0800",
   "metadata": {},
   "outputs": [],
   "source": [
    "rm Image_00*.png"
   ]
  },
  {
   "cell_type": "code",
   "execution_count": null,
   "id": "93cfd64f-660b-409d-9dc2-37e3edfe97d3",
   "metadata": {},
   "outputs": [],
   "source": [
    "rm Image_00*.jpg"
   ]
  },
  {
   "cell_type": "code",
   "execution_count": null,
   "id": "b5fbfc49-e71d-46ed-8ef9-2a8f79f62859",
   "metadata": {},
   "outputs": [],
   "source": []
  }
 ],
 "metadata": {
  "kernelspec": {
   "display_name": "Bash",
   "language": "bash",
   "name": "bash"
  },
  "language_info": {
   "codemirror_mode": "shell",
   "file_extension": ".sh",
   "mimetype": "text/x-sh",
   "name": "bash"
  }
 },
 "nbformat": 4,
 "nbformat_minor": 5
}
