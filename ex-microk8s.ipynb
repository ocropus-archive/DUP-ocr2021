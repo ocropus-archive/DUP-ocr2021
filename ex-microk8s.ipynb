{
 "cells": [
  {
   "cell_type": "markdown",
   "id": "d92dcfbd-a012-46dc-82b5-9623266cbb82",
   "metadata": {},
   "source": [
    "# Getting Started with Kubernetes / Microk8s"
   ]
  },
  {
   "cell_type": "markdown",
   "id": "4fa57346-313f-4049-a058-2d231affc847",
   "metadata": {},
   "source": [
    "```\n",
    "sudo snap install microk8s\n",
    "sudo microk8s start\n",
    "sudo microk8s enable dns storage gpu dashboard host-access ingress\n",
    "sudo microk8s status\n",
    "```\n",
    "\n",
    "```\n",
    "./run build\n",
    "docker tag ocr2021 localhost:32000/ocr2021\n",
    "docker push localhost:32000/ocr2021\n",
    "```"
   ]
  },
  {
   "cell_type": "code",
   "execution_count": 1,
   "id": "a28acb51-e5eb-40ef-8dcb-89908054fec7",
   "metadata": {},
   "outputs": [],
   "source": [
    "cat > job.yml << \\EOF\n",
    "apiVersion: batch/v1\n",
    "kind: Job\n",
    "metadata:\n",
    "  name: job$shard\n",
    "spec:\n",
    "  template:\n",
    "    spec:\n",
    "      containers:\n",
    "      - name: job\n",
    "        image: localhost:32000/ocr2021\n",
    "        command:\n",
    "        - /bin/bash\n",
    "        - -c\n",
    "        - |\n",
    "          curl -sL http://storage.googleapis.com/ocropus4-g1000/Volume_$shard.tar |\n",
    "          ocropus4 nlbin binarize - --output - |\n",
    "          tar tvf - | sed 20q  #<-- for testing, we don't upload\n",
    "      restartPolicy: Never\n",
    "  backoffLimit: 4\n",
    "EOF"
   ]
  },
  {
   "cell_type": "code",
   "execution_count": 25,
   "id": "fe29735b-b5ab-45a5-a996-295be289170c",
   "metadata": {
    "tags": []
   },
   "outputs": [
    {
     "name": "stdout",
     "output_type": "stream",
     "text": [
      "apiVersion: batch/v1\n",
      "kind: Job\n",
      "metadata:\n",
      "  name: job0000\n",
      "spec:\n",
      "  template:\n",
      "    spec:\n",
      "      containers:\n",
      "      - name: job\n",
      "        image: localhost:32000/ocr2021\n",
      "        command:\n",
      "        - /bin/bash\n",
      "        - -c\n",
      "        - |\n",
      "          curl -sL http://storage.googleapis.com/ocropus4-g1000/Volume_0000.tar |\n",
      "          ocropus4 nlbin binarize - --output - |\n",
      "          # gsutil cp - gs://ocropus4-temp\n",
      "          tar tvf - | sed 20q\n",
      "      restartPolicy: Never\n",
      "  backoffLimit: 4\n"
     ]
    }
   ],
   "source": [
    "export shard\n",
    "for shard in {0000..0000}; do\n",
    "    envsubst < job.yml\n",
    "done"
   ]
  },
  {
   "cell_type": "code",
   "execution_count": 22,
   "id": "799b81e2-7914-4498-8aef-79818d3c264d",
   "metadata": {},
   "outputs": [
    {
     "name": "stdout",
     "output_type": "stream",
     "text": [
      "No resources found\n",
      "No resources found\n"
     ]
    }
   ],
   "source": [
    "microk8s kubectl delete jobs --all\n",
    "microk8s kubectl delete pods --all"
   ]
  },
  {
   "cell_type": "code",
   "execution_count": 23,
   "id": "d5b8617e-3547-47e6-9e93-c6459352862f",
   "metadata": {},
   "outputs": [
    {
     "name": "stdout",
     "output_type": "stream",
     "text": [
      "job.batch/job0000 created\n",
      "job.batch/job0001 created\n",
      "job.batch/job0002 created\n",
      "job.batch/job0003 created\n"
     ]
    }
   ],
   "source": [
    "export shard\n",
    "for shard in {0000..0003}; do\n",
    "    envsubst < job.yml | microk8s kubectl apply -f -\n",
    "done"
   ]
  },
  {
   "cell_type": "code",
   "execution_count": 24,
   "id": "9b427459-289d-4443-9980-0f011190cbf1",
   "metadata": {},
   "outputs": [
    {
     "name": "stdout",
     "output_type": "stream",
     "text": [
      "NAME            READY   STATUS              RESTARTS   AGE\n",
      "job0000-776cr   0/1     ContainerCreating   0          7s\n",
      "job0001-zfkvg   0/1     ContainerCreating   0          7s\n",
      "job0002-vsjjq   0/1     ContainerCreating   0          6s\n",
      "job0003-xvkxr   0/1     ContainerCreating   0          6s\n"
     ]
    }
   ],
   "source": [
    "microk8s kubectl get pods"
   ]
  },
  {
   "cell_type": "code",
   "execution_count": 26,
   "id": "4f4831ff-bdcf-4e84-9d84-e8575adacbab",
   "metadata": {},
   "outputs": [
    {
     "name": "stdout",
     "output_type": "stream",
     "text": [
      "job0000-776cr\n",
      "-r--r--r-- bigdata/bigdata 171060 2021-08-25 22:22 Volume_0000/Image_0000.bin.png\n",
      "-r--r--r-- bigdata/bigdata 692131 2021-08-25 22:22 Volume_0000/Image_0000.jpg\n",
      "-r--r--r-- bigdata/bigdata 2484978 2021-08-25 22:22 Volume_0000/Image_0000.nrm.jpg\n",
      "-r--r--r-- bigdata/bigdata   19879 2021-08-25 22:22 Volume_0000/Image_0001.bin.png\n",
      "-r--r--r-- bigdata/bigdata  376956 2021-08-25 22:22 Volume_0000/Image_0001.jpg\n",
      "-r--r--r-- bigdata/bigdata  561255 2021-08-25 22:22 Volume_0000/Image_0001.nrm.jpg\n",
      "-r--r--r-- bigdata/bigdata  151595 2021-08-25 22:22 Volume_0000/Image_0002.bin.png\n",
      "-r--r--r-- bigdata/bigdata  260388 2021-08-25 22:22 Volume_0000/Image_0002.jpg\n",
      "-r--r--r-- bigdata/bigdata 1686126 2021-08-25 22:22 Volume_0000/Image_0002.nrm.jpg\n",
      "-r--r--r-- bigdata/bigdata   98153 2021-08-25 22:22 Volume_0000/Image_0003.bin.png\n",
      "-r--r--r-- bigdata/bigdata  172837 2021-08-25 22:22 Volume_0000/Image_0003.jpg\n",
      "-r--r--r-- bigdata/bigdata 1242063 2021-08-25 22:22 Volume_0000/Image_0003.nrm.jpg\n",
      "-r--r--r-- bigdata/bigdata  151601 2021-08-25 22:22 Volume_0000/Image_0004.bin.png\n",
      "-r--r--r-- bigdata/bigdata  262952 2021-08-25 22:22 Volume_0000/Image_0004.jpg\n",
      "-r--r--r-- bigdata/bigdata 1686093 2021-08-25 22:22 Volume_0000/Image_0004.nrm.jpg\n",
      "-r--r--r-- bigdata/bigdata   82181 2021-08-25 22:22 Volume_0000/Image_0005.bin.png\n",
      "-r--r--r-- bigdata/bigdata  160827 2021-08-25 22:22 Volume_0000/Image_0005.jpg\n",
      "-r--r--r-- bigdata/bigdata 1024233 2021-08-25 22:22 Volume_0000/Image_0005.nrm.jpg\n",
      "-r--r--r-- bigdata/bigdata   82673 2021-08-25 22:22 Volume_0000/Image_0006.bin.png\n",
      "-r--r--r-- bigdata/bigdata  279697 2021-08-25 22:22 Volume_0000/Image_0006.jpg\n",
      "0/999999999999 Volume_0000/Image_0000\n",
      "1/999999999999 Volume_0000/Image_0001\n",
      "2/999999999999 Volume_0000/Image_0002\n",
      "3/999999999999 Volume_0000/Image_0003\n",
      "4/999999999999 Volume_0000/Image_0004\n",
      "5/999999999999 Volume_0000/Image_0005\n",
      "6/999999999999 Volume_0000/Image_0006\n",
      "Exception ignored in: <function _Stream.__del__ at 0x7f6fe2a8cee0>\n",
      "Traceback (most recent call last):\n",
      "  File \"/usr/lib/python3.8/tarfile.py\", line 410, in __del__\n",
      "    self.close()\n",
      "  File \"/usr/lib/python3.8/tarfile.py\", line 460, in close\n",
      "    self.fileobj.write(self.buf)\n",
      "BrokenPipeError: [Errno 32] Broken pipe\n"
     ]
    }
   ],
   "source": [
    "job=$(microk8s kubectl get pods | awk '/^job.*Error|Running|Completed/{print $1}' | sed 1q)\n",
    "echo $job\n",
    "microk8s kubectl logs $job"
   ]
  },
  {
   "cell_type": "code",
   "execution_count": null,
   "id": "12624e55-470e-46b8-adef-99b88293a1dc",
   "metadata": {},
   "outputs": [],
   "source": []
  },
  {
   "cell_type": "code",
   "execution_count": null,
   "id": "d0bccc19-c29c-4967-aef4-f2593d85b92e",
   "metadata": {},
   "outputs": [],
   "source": []
  }
 ],
 "metadata": {
  "kernelspec": {
   "display_name": "Bash",
   "language": "bash",
   "name": "bash"
  },
  "language_info": {
   "codemirror_mode": "shell",
   "file_extension": ".sh",
   "mimetype": "text/x-sh",
   "name": "bash"
  }
 },
 "nbformat": 4,
 "nbformat_minor": 5
}
