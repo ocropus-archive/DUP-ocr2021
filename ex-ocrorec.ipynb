{
 "cells": [
  {
   "cell_type": "markdown",
   "id": "efa6b443-ac5e-4e8e-869d-c9f3735ec040",
   "metadata": {},
   "source": [
    "# Minimal OCRopus `ocrorec` example"
   ]
  },
  {
   "cell_type": "code",
   "execution_count": 1,
   "id": "ca944d54-087c-45dd-bced-856a70756849",
   "metadata": {},
   "outputs": [],
   "source": [
    "test -f ocrorec.pth || curl -sL http://storage.googleapis.com/ocropus4-models/ocrorec.pth > ocrorec.pth\n",
    "test -f gsub-words-test.tar || curl -sL http://storage.googleapis.com/ocropus4-test/gsub-words-test.tar > gsub-words-test.tar"
   ]
  },
  {
   "cell_type": "code",
   "execution_count": null,
   "id": "0eeb553b-25a8-4913-8c06-32bd6822cafd",
   "metadata": {},
   "outputs": [
    {
     "name": "stdout",
     "output_type": "stream",
     "text": [
      "(venv) cuda:0\n",
      "Volume_0935/Image_0028@0 (55, 62) 24\n",
      "Volume_0935/Image_0028@1 (57, 94) faut\n",
      "Volume_0935/Image_0028@2 (53, 88) pas\n",
      "Volume_0935/Image_0028@3 (50, 208) confacrer\n",
      "Volume_0935/Image_0028@4 (41, 97) tout\n",
      "Volume_0935/Image_0028@5 (42, 107) ters\n",
      "Volume_0935/Image_0028@6 (46, 118) votre\n",
      "Volume_0935/Image_0028@7 (65, 177) jeuneffe\n",
      "Volume_0935/Image_0028@8 (66, 290) al'apprendre.\n"
     ]
    }
   ],
   "source": [
    "source venv/bin/activate\n",
    "ocropus4 ocrorec recognize --model ocrorec.pth gsub-words-test.tar --display"
   ]
  },
  {
   "cell_type": "code",
   "execution_count": null,
   "id": "a0226732-6562-4802-aa9c-46c0f123c06c",
   "metadata": {},
   "outputs": [],
   "source": []
  }
 ],
 "metadata": {
  "kernelspec": {
   "display_name": "Bash",
   "language": "bash",
   "name": "bash"
  },
  "language_info": {
   "codemirror_mode": "shell",
   "file_extension": ".sh",
   "mimetype": "text/x-sh",
   "name": "bash"
  }
 },
 "nbformat": 4,
 "nbformat_minor": 5
}
