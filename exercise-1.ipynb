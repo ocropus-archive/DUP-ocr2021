{
 "cells": [
  {
   "cell_type": "code",
   "execution_count": 2,
   "id": "71486d3b-327f-4e81-b812-a7b83930d4fe",
   "metadata": {},
   "outputs": [
    {
     "name": "stdout",
     "output_type": "stream",
     "text": [
      "Populating the interactive namespace from numpy and matplotlib\n"
     ]
    }
   ],
   "source": [
    "%pylab inline"
   ]
  },
  {
   "cell_type": "code",
   "execution_count": 19,
   "id": "9fbf89be-58be-48b4-abdc-7cdcf2a20fda",
   "metadata": {},
   "outputs": [],
   "source": [
    "import torch\n",
    "from torchvision import datasets\n",
    "import webdataset as wds\n",
    "from PIL import Image, ImageDraw, ImageFont"
   ]
  },
  {
   "cell_type": "markdown",
   "id": "e32e3785-6b31-4c1d-b7a8-cf50269a265c",
   "metadata": {},
   "source": [
    "# Writing MNIST as Shards"
   ]
  },
  {
   "cell_type": "code",
   "execution_count": 9,
   "id": "d86bcf64-6716-4d64-a077-6642549e474a",
   "metadata": {},
   "outputs": [],
   "source": [
    "mnist = datasets.MNIST(root=\"./data\", download=True, train=True)"
   ]
  },
  {
   "cell_type": "code",
   "execution_count": 14,
   "id": "43a61f00-f6a2-482d-9ee2-f76945fb5c24",
   "metadata": {},
   "outputs": [
    {
     "name": "stdout",
     "output_type": "stream",
     "text": [
      "# writing mnist-000000.tar 0 0.0 GB 0\n"
     ]
    }
   ],
   "source": [
    "sink = wds.ShardWriter(pattern=\"mnist-%06d.tar\")\n",
    "for i, (image, cls) in enumerate(mnist):\n",
    "    sink.write({\n",
    "        \"__key__\": f\"{i:06d}\",\n",
    "        \"png\": image,\n",
    "        \"cls\": cls\n",
    "    })\n",
    "sink.close()"
   ]
  },
  {
   "cell_type": "code",
   "execution_count": 15,
   "id": "e072c738-3e3f-41f3-bf96-625ad2aec214",
   "metadata": {},
   "outputs": [
    {
     "name": "stdout",
     "output_type": "stream",
     "text": [
      "-rw-rw-r-- 1 tmb tmb 235M Aug 26 03:27 mnist-000000.tar\n"
     ]
    }
   ],
   "source": [
    "!ls -lh mnist-000000.tar"
   ]
  },
  {
   "cell_type": "code",
   "execution_count": 16,
   "id": "0ce10b53-36a1-4f3f-b9de-cbd23487f725",
   "metadata": {},
   "outputs": [
    {
     "name": "stdout",
     "output_type": "stream",
     "text": [
      "-r--r--r-- bigdata/bigdata   1 2021-08-26 03:27 000000.cls\n",
      "-r--r--r-- bigdata/bigdata 313 2021-08-26 03:27 000000.png\n",
      "-r--r--r-- bigdata/bigdata   1 2021-08-26 03:27 000001.cls\n",
      "-r--r--r-- bigdata/bigdata 312 2021-08-26 03:27 000001.png\n",
      "-r--r--r-- bigdata/bigdata   1 2021-08-26 03:27 000002.cls\n",
      "tar: write error\n"
     ]
    }
   ],
   "source": [
    "!tar tvf mnist-000000.tar | sed 5q"
   ]
  },
  {
   "cell_type": "markdown",
   "id": "de3197ed-7e89-4701-ac5a-df4eb7b76102",
   "metadata": {},
   "source": [
    "# Generate a Large Rendered Dataset"
   ]
  },
  {
   "cell_type": "code",
   "execution_count": 29,
   "id": "7f93e0ad-8e0a-480b-8174-5d1308dec9b5",
   "metadata": {},
   "outputs": [],
   "source": [
    "!curl -sL https://filesamples.com/samples/font/ttf/OpenSans-Regular.ttf > OpenSans-Regular.ttf\n",
    "!curl -sL https://raw.githubusercontent.com/dwyl/english-words/master/words.txt > words.txt"
   ]
  },
  {
   "cell_type": "code",
   "execution_count": 30,
   "id": "4e6048d4-0336-464e-8364-f0e92b329cac",
   "metadata": {},
   "outputs": [
    {
     "name": "stdout",
     "output_type": "stream",
     "text": [
      "2\n",
      "1080\n",
      "&c\n",
      "10-point\n",
      "10th\n",
      "11-point\n",
      "12-point\n",
      "16-point\n",
      "18-point\n",
      "1st\n"
     ]
    }
   ],
   "source": [
    "!head words.txt"
   ]
  },
  {
   "cell_type": "markdown",
   "id": "be5a5631-63ba-4472-81f9-e816a9c0ce67",
   "metadata": {},
   "source": [
    "Use the Pillow library to render text (or figure out how to do this with Cairo).\n",
    "\n",
    "See here for more information: https://pillow.readthedocs.io/en/stable/reference/ImageDraw.html"
   ]
  },
  {
   "cell_type": "code",
   "execution_count": 31,
   "id": "e5de55ec-a2e6-4d0c-840d-606121366b39",
   "metadata": {},
   "outputs": [
    {
     "data": {
      "text/plain": [
       "<matplotlib.image.AxesImage at 0x7f542663f280>"
      ]
     },
     "execution_count": 31,
     "metadata": {},
     "output_type": "execute_result"
    },
    {
     "data": {
      "image/png": "[encoded data removed]",
      "text/plain": [
       "<Figure size 432x288 with 1 Axes>"
      ]
     },
     "metadata": {
      "needs_background": "light"
     },
     "output_type": "display_data"
    }
   ],
   "source": [
    "fontsize = 64\n",
    "image = Image.new(\"RGB\", (600,150), (0, 0, 0))\n",
    "draw = ImageDraw.Draw(image)\n",
    "font = ImageFont.truetype(\"OpenSans-Regular.ttf\", fontsize)\n",
    "draw.text((10, 0), \"hello world\", (255,255,255), font=font)\n",
    "a = np.asarray(image)\n",
    "imshow(a)"
   ]
  },
  {
   "cell_type": "markdown",
   "id": "beae1e21-461e-4512-8333-b606e8e747e8",
   "metadata": {},
   "source": [
    "Part 1:\n",
    "\n",
    "- use random samples from words.txt as text\n",
    "- use ImageDraw / ImageFont to generate images corresponding to the words\n",
    "- write sharded training data; your training data should contain:\n",
    "    - images with .jpg extension\n",
    "    - ground truth text with .gt.txt extension\n",
    "    - metainfo about the font name and font size with .json extension\n",
    "    \n",
    "Follow the MNIST example above to see how you can write."
   ]
  },
  {
   "cell_type": "code",
   "execution_count": 34,
   "id": "f31b4d01-bddc-4078-a1d4-27eeb7be9a05",
   "metadata": {},
   "outputs": [],
   "source": [
    "def generate_word_training_data(output, num_samples, pattern, wordfile, fontlist, ):\n",
    "    sink = wds.TarWriter(output, ...)\n",
    "    for i in range(num_samples):\n",
    "        ...\n",
    "        sink.write(...)\n",
    "        ...\n",
    "    sink.close()"
   ]
  },
  {
   "cell_type": "markdown",
   "id": "c135f47f-ce13-49b8-b6ce-408e20ffb94d",
   "metadata": {},
   "source": [
    "Part 2:\n",
    "- write `ray` code to generate 20 shards in parallel (use `multiprocessing` if you can't use `ray`)"
   ]
  },
  {
   "cell_type": "markdown",
   "id": "ba1b4be5-e191-4cb9-8648-3dd36b32a239",
   "metadata": {},
   "source": [
    "# Write an Image Augmentation Tool\n",
    "\n",
    "The main function should look something like:"
   ]
  },
  {
   "cell_type": "code",
   "execution_count": 35,
   "id": "9eb37861-cf68-4fc6-a040-d491cad95ebd",
   "metadata": {},
   "outputs": [],
   "source": [
    "def augment_image(image):\n",
    "    return ...\n",
    "\n",
    "def augment_shard(source_url, output, extension=\"jpg\"):\n",
    "    source = wds.WebDataset(source_url, ...)\n",
    "    sink = wds.TarWriter(output, ...)\n",
    "    for sample in source:\n",
    "        result = dict(sample)\n",
    "        result[extension] = augment(sample[extension])\n",
    "        sink.write(...)"
   ]
  },
  {
   "cell_type": "markdown",
   "id": "a5cab0a2-45ca-47e3-a4b8-74fecc9b96e4",
   "metadata": {},
   "source": [
    "Exercise:\n",
    "\n",
    "- write `ray` code to augment a list of shards in parallel (use `multiprocessing` if you can't use `ray`)\n",
    "- wrap up your code in a script using a command line library (`argparse` or [`typer`](https://pypi.org/project/typer/))\n",
    "- write a shell script to run your script over the 20 shards you generated above\n",
    "\n",
    "Optional:\n",
    "\n",
    "- follow the Kubernetes example from the lecture to schedule the 20 shard transformations as Kubernetes Jobs"
   ]
  },
  {
   "cell_type": "code",
   "execution_count": null,
   "id": "96903ea7-be03-4605-9e6d-a31ea12ea73d",
   "metadata": {},
   "outputs": [],
   "source": []
  }
 ],
 "metadata": {
  "kernelspec": {
   "display_name": "Python 3 (ipykernel)",
   "language": "python",
   "name": "python3"
  },
  "language_info": {
   "codemirror_mode": {
    "name": "ipython",
    "version": 3
   },
   "file_extension": ".py",
   "mimetype": "text/x-python",
   "name": "python",
   "nbconvert_exporter": "python",
   "pygments_lexer": "ipython3",
   "version": "3.8.10"
  }
 },
 "nbformat": 4,
 "nbformat_minor": 5
}
