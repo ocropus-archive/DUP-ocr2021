{
 "cells": [
  {
   "cell_type": "code",
   "execution_count": 1,
   "id": "2e130fa1-3a47-478b-8ccd-9c6f81669566",
   "metadata": {},
   "outputs": [],
   "source": [
    "import multiprocessing as mp\n",
    "import os"
   ]
  },
  {
   "cell_type": "code",
   "execution_count": 2,
   "id": "7749204f-a35a-47ad-a14d-29233d124fe5",
   "metadata": {},
   "outputs": [],
   "source": [
    "pool = mp.Pool(12)"
   ]
  },
  {
   "cell_type": "code",
   "execution_count": 3,
   "id": "403285c2-2960-4cca-be07-0095895d6bb2",
   "metadata": {},
   "outputs": [
    {
     "name": "stdout",
     "output_type": "stream",
     "text": [
      "CPU times: user 2.48 ms, sys: 525 µs, total: 3.01 ms\n",
      "Wall time: 5 s\n"
     ]
    }
   ],
   "source": [
    "%%time\n",
    "commands = [\"sleep 5\"] * 8\n",
    "for result in pool.imap_unordered(os.system, commands):\n",
    "    pass"
   ]
  }
 ],
 "metadata": {
  "kernelspec": {
   "display_name": "Python 3 (ipykernel)",
   "language": "python",
   "name": "python3"
  },
  "language_info": {
   "codemirror_mode": {
    "name": "ipython",
    "version": 3
   },
   "file_extension": ".py",
   "mimetype": "text/x-python",
   "name": "python",
   "nbconvert_exporter": "python",
   "pygments_lexer": "ipython3",
   "version": "3.8.10"
  }
 },
 "nbformat": 4,
 "nbformat_minor": 5
}
